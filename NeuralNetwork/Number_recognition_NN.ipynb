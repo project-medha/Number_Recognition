{
 "cells": [
  {
   "cell_type": "code",
   "execution_count": null,
   "id": "52d49d97",
   "metadata": {},
   "outputs": [],
   "source": [
    "import tensorflow as tf \n",
    "import numpy as np \n",
    "import matplotlib.pyplot as plt \n",
    "from  tensorflow.keras.datasets import mnist   "
   ]
  },
  {
   "cell_type": "code",
   "execution_count": null,
   "id": "367dd3b8",
   "metadata": {},
   "outputs": [],
   "source": [
    "data=mnist \n",
    "#from keras.datasets import mnist\n",
    "num_features= 784\n",
    "num_classes = 10\n",
    "(x_train,y_train),(x_test,y_test)=data.load_data()\n"
   ]
  },
  {
   "cell_type": "code",
   "execution_count": null,
   "id": "f3133652",
   "metadata": {},
   "outputs": [],
   "source": [
    "x_train,x_test=np.array(x_train,np.float32),np.array(x_test,np.float32)\n",
    "x_train,x_test=x_train.reshape([-1,num_features]),x_test.reshape([-1,num_features])\n",
    "x_train,x_test=x_train/255.,x_test/255."
   ]
  },
  {
   "cell_type": "code",
   "execution_count": null,
   "id": "9d52604f",
   "metadata": {},
   "outputs": [],
   "source": [
    "learning_rate=0.001\n",
    "batch_size= 250\n",
    "training_steps= 3000\n",
    "display_step= 100\n",
    "n_hidden= 512"
   ]
  },
  {
   "cell_type": "code",
   "execution_count": null,
   "id": "9bb00a82",
   "metadata": {},
   "outputs": [],
   "source": [
    "train_data=tf.data.Dataset.from_tensor_slices((x_train,y_train))\n",
    "train_data=train_data.repeat().shuffle(60000).batch(batch_size).prefetch(1)"
   ]
  },
  {
   "cell_type": "code",
   "execution_count": null,
   "id": "6eee93e7",
   "metadata": {},
   "outputs": [],
   "source": [
    "random_normal= tf.initializers.RandomNormal()\n",
    "weights= {\n",
    "    'h': tf.Variable(random_normal([num_features,n_hidden])),\n",
    "    'out': tf.Variable(random_normal([n_hidden,num_classes]))\n",
    "}\n",
    "biases={\n",
    "     'h': tf.Variable(tf.zeros([n_hidden])),\n",
    "    'out': tf.Variable(tf.zeros([num_classes]))\n",
    "}"
   ]
  },
  {
   "cell_type": "code",
   "execution_count": null,
   "id": "5138557d",
   "metadata": {},
   "outputs": [],
   "source": [
    "def neural_net(input_data):\n",
    "    hidden_layer= tf.add(tf.matmul(input_data,weights['h']),biases['h'])\n",
    "    hidden_layer=tf.nn.sigmoid(hidden_layer)\n",
    "    out_layer=tf.add(tf.matmul(hidden_layer,weights['out']),biases['out'])\n",
    "    return (tf.nn.softmax(out_layer))\n"
   ]
  },
  {
   "cell_type": "code",
   "execution_count": null,
   "id": "83bbc4d2-4680-41c6-b035-6e82439fea8c",
   "metadata": {},
   "outputs": [],
   "source": [
    "def cross_entropy(y_pred,y_true):\n",
    "    y_true = tf.one_hot(y_true,depth=num_classes)\n",
    "    y_pred = tf.clip_by_value(y_pred,1e-9,1.)\n",
    "    loss = -tf.reduce_sum(y_true * tf.math.log(y_pred))\n",
    "    return (tf.reduce_mean(loss))\n",
    "\n"
   ]
  },
  {
   "cell_type": "code",
   "execution_count": null,
   "id": "5e1ae6ab-5928-46de-9795-a427bed1a7c4",
   "metadata": {},
   "outputs": [],
   "source": [
    "optimizer=tf.keras.optimizers.SGD(learning_rate)\n",
    "def run_optimization(x,y):\n",
    "    with tf.GradientTape() as g:\n",
    "        pred=neural_net(x)\n",
    "        loss=cross_entropy(pred,y)\n",
    "    trainable_variables=list(weights.values())+list(biases.values())\n",
    "    gradients=g.gradient(loss,trainable_variables)\n",
    "    optimizer.apply_gradients(zip(gradients,trainable_variables))\n",
    "    "
   ]
  },
  {
   "cell_type": "code",
   "execution_count": null,
   "id": "7a91d8ed-353f-4081-9556-07a325423f7d",
   "metadata": {},
   "outputs": [],
   "source": [
    "def accuracy(y_pred,y_true):\n",
    "    correct_pred = tf.equal(tf.argmax(y_pred,1),tf.cast(y_true,tf.int64))\n",
    "    return(tf.reduce_mean(tf.cast(correct_pred,tf.float32),axis=-1))\n"
   ]
  },
  {
   "cell_type": "code",
   "execution_count": null,
   "id": "9f83c79e-8f0c-4f60-8edd-d1f33a351723",
   "metadata": {},
   "outputs": [],
   "source": [
    "for step,(batch_x,batch_y) in enumerate(train_data.take(training_steps),1):\n",
    "    #print(type(batch_x), type(batch_y))\n",
    "    \n",
    "    run_optimization(batch_x,batch_y)\n",
    "    if step % display_step == 0:\n",
    "        pred = neural_net(batch_x)\n",
    "        loss = cross_entropy(pred,batch_y)\n",
    "        acc = accuracy(pred,batch_y)\n",
    "        print (\"Training Epoch : %i, Loss : %f, Accuracy : %f\" %(step,loss,acc))\n",
    "    \n"
   ]
  },
  {
   "cell_type": "code",
   "execution_count": null,
   "id": "94c01c89-da3b-495d-a2e3-035c3dbe6995",
   "metadata": {},
   "outputs": [],
   "source": [
    "pred = neural_net(x_test)\n",
    "acc = accuracy(pred,y_test)\n",
    "print (\"Testing Accuracy : %f\" % acc)\n"
   ]
  },
  {
   "cell_type": "code",
   "execution_count": null,
   "id": "a9a31122-f5c2-4876-b726-ab85772eadeb",
   "metadata": {},
   "outputs": [],
   "source": [
    "%matplotlib inline \n",
    "def display_sample(num):\n",
    "    label = y_train[num]\n",
    "    image = x_train[num].reshape([28,28])\n",
    "    plt.title(\"Sample : %d Label : %d\"% (num,label))\n",
    "    plt.imshow(image, cmap = plt.get_cmap('gray_r'))\n",
    "    plt.show()\n",
    "display_sample(400)  "
   ]
  },
  {
   "cell_type": "code",
   "execution_count": null,
   "id": "a71f87be-c1e0-4f85-ac8f-59a3d34e25f3",
   "metadata": {
    "scrolled": true
   },
   "outputs": [],
   "source": [
    "images=x_train[0].reshape([1,784])\n",
    "for i in range(1,500):\n",
    "    images=np.concatenate((images,x_train[i].reshape([1,784])))\n",
    "plt.imshow(images,cmap=plt.get_cmap('gray_r'))\n",
    "plt.show()\n"
   ]
  },
  {
   "cell_type": "code",
   "execution_count": null,
   "id": "ff7683e3-878d-4823-9c60-f6ea65f8c12d",
   "metadata": {},
   "outputs": [],
   "source": [
    "n_images=200\n",
    "test_images=x_test[:n_images]\n",
    "test_labels=y_test[:n_images]\n",
    "predictions = neural_net(test_images)\n",
    "\n",
    "for i in range(n_images):\n",
    "    model_pred = np.argmax(predictions.numpy()[i])\n",
    "    if (model_pred != test_labels[i]):\n",
    "        plt.title(\"True Label : %d, Prediction : %d\" %(test_labels[i],model_pred))\n",
    "        plt.imshow(np.reshape(test_images[i],[28,28]),cmap = 'gray_r')\n",
    "        plt.show()\n"
   ]
  }
 ],
 "metadata": {
  "kernelspec": {
   "display_name": "Python 3 (ipykernel)",
   "language": "python",
   "name": "python3"
  },
  "language_info": {
   "codemirror_mode": {
    "name": "ipython",
    "version": 3
   },
   "file_extension": ".py",
   "mimetype": "text/x-python",
   "name": "python",
   "nbconvert_exporter": "python",
   "pygments_lexer": "ipython3",
   "version": "3.10.9"
  }
 },
 "nbformat": 4,
 "nbformat_minor": 5
}
