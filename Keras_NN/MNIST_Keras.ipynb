{
 "cells": [
  {
   "cell_type": "code",
   "execution_count": null,
   "id": "2af30682",
   "metadata": {},
   "outputs": [],
   "source": [
    "from tensorflow import keras\n",
    "from tensorflow.keras.datasets import mnist\n",
    "from tensorflow.keras.models import Sequential\n",
    "from tensorflow.keras.layers import Dense,Dropout\n",
    "from tensorflow.keras.optimizers import RMSprop"
   ]
  },
  {
   "cell_type": "code",
   "execution_count": null,
   "id": "12f03ee7",
   "metadata": {},
   "outputs": [],
   "source": [
    "(x_train,y_train),(x_test,y_test)=mnist.load_data()"
   ]
  },
  {
   "cell_type": "code",
   "execution_count": null,
   "id": "80b107db",
   "metadata": {},
   "outputs": [],
   "source": [
    "x_train = x_train.reshape([60000,784])\n",
    "x_test = x_test.reshape([10000,784])\n",
    "x_train = x_train.astype('float32')\n",
    "x_test = x_test.astype('float32')\n",
    "x_train,x_test = x_train/255.,x_test/255."
   ]
  },
  {
   "cell_type": "code",
   "execution_count": null,
   "id": "35648059",
   "metadata": {},
   "outputs": [],
   "source": [
    "y_train = keras.utils.to_categorical(y_train,10)\n",
    "y_test = keras.utils.to_categorical(y_test,10)\n"
   ]
  },
  {
   "cell_type": "code",
   "execution_count": null,
   "id": "2d2138f7",
   "metadata": {
    "scrolled": true
   },
   "outputs": [],
   "source": [
    "import matplotlib.pyplot as plt\n",
    "%matplotlib inline \n",
    "def display_sample(num):\n",
    "    image = x_train[num].reshape([28,28])\n",
    "    label = y_train[num]\n",
    "    label = label.argmax()\n",
    "    plt.imshow(image,cmap=plt.get_cmap('gray_r'))\n",
    "    plt.title('Label : %s' % label)\n",
    "    plt.show()\n",
    "display_sample(0)"
   ]
  },
  {
   "cell_type": "code",
   "execution_count": null,
   "id": "760638ee",
   "metadata": {},
   "outputs": [],
   "source": [
    "model = Sequential()\n",
    "model.add(Dense(512,activation = 'ReLU',input_shape=(784,)))\n",
    "model.add(Dense(10,activation = 'Softmax'))\n",
    "model.summary()"
   ]
  },
  {
   "cell_type": "code",
   "execution_count": null,
   "id": "15bd045b",
   "metadata": {},
   "outputs": [],
   "source": [
    "model.compile(loss='categorical_crossentropy',\n",
    "             optimizer = RMSprop(),\n",
    "             metrics =['accuracy'])\n"
   ]
  },
  {
   "cell_type": "code",
   "execution_count": null,
   "id": "db52ce49",
   "metadata": {},
   "outputs": [],
   "source": [
    "history = model.fit(x_train,y_train,\n",
    "                       batch_size = 100,\n",
    "                       epochs = 10,\n",
    "                       verbose = 2,\n",
    "                       validation_data = (x_test,y_test))\n"
   ]
  },
  {
   "cell_type": "code",
   "execution_count": null,
   "id": "92c52b5b",
   "metadata": {},
   "outputs": [],
   "source": [
    "score = model.evaluate(x_test,y_test,verbose=0)\n",
    "print(\"Loss : %f\" % score[0])\n",
    "print(\"Accuracy : %f\" %score[1])"
   ]
  },
  {
   "cell_type": "code",
   "execution_count": null,
   "id": "8d8705de",
   "metadata": {},
   "outputs": [],
   "source": [
    "\n",
    "for x in range(1000):\n",
    "    test_image = x_test[x,:].reshape([1,784])\n",
    "    prediction = model.predict(test_image,verbose=0).argmax()\n",
    "    label = y_test[x].argmax()\n",
    "    if (prediction != label):\n",
    "        test_image = test_image.reshape([28,28])\n",
    "        plt.title(\"Prediction : %s, True Label : %s\" %(prediction,label))\n",
    "        plt.imshow(test_image,cmap=plt.get_cmap('gray_r'))\n",
    "        plt.show()\n",
    "\n"
   ]
  },
  {
   "cell_type": "code",
   "execution_count": null,
   "id": "b3037b45",
   "metadata": {},
   "outputs": [],
   "source": [
    "from tensorflow.keras.optimizers import SGD, Adam,Adagrad "
   ]
  },
  {
   "cell_type": "code",
   "execution_count": null,
   "id": "8f81e948",
   "metadata": {},
   "outputs": [],
   "source": [
    "model.compile(loss = 'categorical_crossentropy',\n",
    "             optimizer = SGD(),\n",
    "              metrics = ['accuracy']\n",
    "             )"
   ]
  },
  {
   "cell_type": "code",
   "execution_count": null,
   "id": "693e2390",
   "metadata": {},
   "outputs": [],
   "source": [
    "history = model.fit(x_train,y_train,\n",
    "                   batch_size = 100,\n",
    "                   epochs = 10,\n",
    "                   verbose = 2,\n",
    "                   validation_data=(x_test,y_test))"
   ]
  },
  {
   "cell_type": "code",
   "execution_count": null,
   "id": "a4e98951",
   "metadata": {},
   "outputs": [],
   "source": [
    "score = model.evaluate(x_test,y_test,verbose = 0)\n",
    "print(\"Loss : %f\" % score[0])\n",
    "print(\"Accuracy : %f\" % score[1])"
   ]
  },
  {
   "cell_type": "code",
   "execution_count": null,
   "id": "1ce44a0c",
   "metadata": {},
   "outputs": [],
   "source": [
    "model.compile(loss = 'categorical_crossentropy',\n",
    "             optimizer = Adagrad(),\n",
    "             metrics = ['Accuracy'])"
   ]
  },
  {
   "cell_type": "code",
   "execution_count": null,
   "id": "3a35d4e8",
   "metadata": {},
   "outputs": [],
   "source": [
    "history = model.fit(x_train,y_train,\n",
    "         batch_size = 100,\n",
    "         epochs = 10,\n",
    "         verbose = 2,\n",
    "         validation_data =(x_test,y_test))"
   ]
  },
  {
   "cell_type": "code",
   "execution_count": null,
   "id": "6e1a64ef",
   "metadata": {},
   "outputs": [],
   "source": [
    "score = model.evaluate(x_test,y_test,verbose=0)\n",
    "print(\"Loss : %f\" %score[0])\n",
    "print(\"Accuracy : %f\" %score[1])"
   ]
  }
 ],
 "metadata": {
  "kernelspec": {
   "display_name": "Python 3 (ipykernel)",
   "language": "python",
   "name": "python3"
  },
  "language_info": {
   "codemirror_mode": {
    "name": "ipython",
    "version": 3
   },
   "file_extension": ".py",
   "mimetype": "text/x-python",
   "name": "python",
   "nbconvert_exporter": "python",
   "pygments_lexer": "ipython3",
   "version": "3.10.9"
  }
 },
 "nbformat": 4,
 "nbformat_minor": 5
}
